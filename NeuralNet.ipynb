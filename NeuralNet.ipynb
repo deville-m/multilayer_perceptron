{
 "cells": [
  {
   "cell_type": "code",
   "execution_count": 1,
   "metadata": {},
   "outputs": [],
   "source": [
    "import pandas as pd\n",
    "import numpy as np\n",
    "import matplotlib.pyplot as plt\n",
    "from scipy.special import expit\n",
    "from sklearn.datasets import fetch_openml"
   ]
  },
  {
   "cell_type": "code",
   "execution_count": 2,
   "metadata": {
    "scrolled": true
   },
   "outputs": [],
   "source": [
    "df = pd.read_csv(\"data.csv\", header=None, index_col=0)"
   ]
  },
  {
   "cell_type": "code",
   "execution_count": 3,
   "metadata": {
    "scrolled": true
   },
   "outputs": [],
   "source": [
    "df = df.fillna(df.mean())"
   ]
  },
  {
   "cell_type": "code",
   "execution_count": 4,
   "metadata": {},
   "outputs": [],
   "source": [
    "labels = df.pop(1).eq('M').mul(1)\n",
    "data = (df - df.mean()) / df.std()"
   ]
  },
  {
   "cell_type": "code",
   "execution_count": 5,
   "metadata": {},
   "outputs": [],
   "source": [
    "X, y = data.values.astype(float), labels.values.astype(int)\n",
    "y = y.reshape(-1, 1)"
   ]
  },
  {
   "cell_type": "code",
   "execution_count": 6,
   "metadata": {},
   "outputs": [],
   "source": [
    "def sigmoid(x):\n",
    "    return expit(x)\n",
    "\n",
    "def d_sigmoid(x):\n",
    "    return x * (1 - x)"
   ]
  },
  {
   "cell_type": "code",
   "execution_count": 7,
   "metadata": {},
   "outputs": [],
   "source": [
    "class NNLayer:\n",
    "    def __init__(self, s_in, s_out, isout=False, learning_rate=0.01):\n",
    "        self.s_in = s_in\n",
    "        self.s_out = s_out\n",
    "        self.isout = isout\n",
    "        self.W = np.random.randn(s_in, s_out)\n",
    "        self.b = np.zeros(s_out)\n",
    "    \n",
    "    def forward(self, X):\n",
    "        self.input = X\n",
    "        self.output = sigmoid(X.dot(self.W) + self.b)\n",
    "        self.deriv = d_sigmoid(self.output)\n",
    "        return self.output\n",
    "    \n",
    "    def compute_delta(self, e, W):\n",
    "        if self.isout:\n",
    "            self.delta = (self.output - e) * self.deriv\n",
    "            return self.delta, self.W\n",
    "        self.delta = e.dot(W.T) * self.deriv\n",
    "        return self.delta, self.W\n",
    "\n",
    "class NeuralNet:\n",
    "    def __init__(self, depth, s_in, s_out, learning_rate=0.01):\n",
    "        self.layers = []\n",
    "        self.depth = depth\n",
    "        self.learning_rate = learning_rate\n",
    "        decr = s_in // depth\n",
    "        out = s_in\n",
    "        for i in range(depth - 1):\n",
    "            self.layers.append(NNLayer(s_in, out, learning_rate=learning_rate))\n",
    "            s_in, out = out, s_in - decr\n",
    "        self.layers.append(NNLayer(s_in, s_out, isout=True, learning_rate=learning_rate))\n",
    "    \n",
    "    def loss(self, y):\n",
    "        h = self.layers[-1].output\n",
    "        m = y.shape[0]\n",
    "        return (- y.T.dot(np.log(h)) - (1 - y).T.dot(np.log(1 - h))) / m\n",
    "\n",
    "    def forward(self, X):\n",
    "        a = X\n",
    "        for layer in self.layers:\n",
    "            a = layer.forward(a)\n",
    "        return a\n",
    "    \n",
    "    def backward(self, X, y):\n",
    "        delta, W = self.layers[-1].compute_delta(y, None)\n",
    "        for i in range(self.depth - 2, -1, -1):\n",
    "            layer = self.layers[i]\n",
    "            delta, W = layer.compute_delta(delta, W)\n",
    "            \n",
    "    def gradient_descent(self, X):\n",
    "        # Update for every layer except the 1st\n",
    "        for i in range(1, self.depth):\n",
    "            prev = self.layers[i - 1]\n",
    "            layer = self.layers[i]\n",
    "            m = layer.delta.shape[0]\n",
    "            layer.W -= self.learning_rate * (np.sum(prev.output.T.dot(layer.delta), axis=0) / m)\n",
    "            layer.b -= self.learning_rate * (np.sum(layer.delta, axis=0) / m)\n",
    "        \n",
    "        # Update the 1st layer with X\n",
    "        m = self.layers[0].delta.shape[0]\n",
    "        self.layers[0].W -= self.learning_rate * (np.sum(X.T.dot(layer.delta), axis=0) / m)\n",
    "        self.layers[0].b -= self.learning_rate * (np.sum(layer.delta, axis=0) / m)\n",
    "        \n",
    "    def update_weights(self, X, y):\n",
    "        self.backward(X, y)\n",
    "        self.gradient_descent(X)"
   ]
  },
  {
   "cell_type": "code",
   "execution_count": 8,
   "metadata": {},
   "outputs": [],
   "source": [
    "network = NeuralNet(2, X.shape[1], 1, learning_rate=0.1)"
   ]
  },
  {
   "cell_type": "code",
   "execution_count": null,
   "metadata": {
    "scrolled": true
   },
   "outputs": [],
   "source": [
    "loss = []\n",
    "for i in range(1000):\n",
    "    network.forward(X)\n",
    "    loss.append(network.loss(y))\n",
    "    network.update_weights(X, y)\n",
    "loss = np.array(loss).ravel()\n",
    "x = np.arange(len(loss))\n",
    "plt.plot(x, loss)\n",
    "plt.show()"
   ]
  },
  {
   "cell_type": "code",
   "execution_count": 10,
   "metadata": {},
   "outputs": [],
   "source": [
    "from sklearn.metrics import accuracy_score"
   ]
  },
  {
   "cell_type": "code",
   "execution_count": 11,
   "metadata": {},
   "outputs": [],
   "source": [
    "y_h = np.around(network.forward(X))"
   ]
  },
  {
   "cell_type": "code",
   "execution_count": 12,
   "metadata": {},
   "outputs": [
    {
     "data": {
      "text/plain": [
       "0.8910369068541301"
      ]
     },
     "execution_count": 12,
     "metadata": {},
     "output_type": "execute_result"
    }
   ],
   "source": [
    "accuracy_score(y, y_h)"
   ]
  },
  {
   "cell_type": "code",
   "execution_count": null,
   "metadata": {},
   "outputs": [],
   "source": []
  }
 ],
 "metadata": {
  "kernelspec": {
   "display_name": "Python 3",
   "language": "python",
   "name": "python3"
  },
  "language_info": {
   "codemirror_mode": {
    "name": "ipython",
    "version": 3
   },
   "file_extension": ".py",
   "mimetype": "text/x-python",
   "name": "python",
   "nbconvert_exporter": "python",
   "pygments_lexer": "ipython3",
   "version": "3.7.4"
  }
 },
 "nbformat": 4,
 "nbformat_minor": 2
}
