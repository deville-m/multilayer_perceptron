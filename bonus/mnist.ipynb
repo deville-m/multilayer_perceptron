{
 "cells": [
  {
   "cell_type": "code",
   "execution_count": null,
   "metadata": {
    "colab": {},
    "colab_type": "code",
    "id": "V00oKy48OdnX"
   },
   "outputs": [],
   "source": [
    "import numpy as np\n",
    "import pandas as pd\n",
    "import matplotlib.pyplot as plt\n",
    "from scipy.special import expit\n",
    "from sklearn.metrics import accuracy_score\n",
    "\n",
    "from NeuralNet import NeuralNet, PCA, Dense, softmax\n",
    "\n",
    "np.set_printoptions(suppress=True, precision=2)"
   ]
  },
  {
   "cell_type": "code",
   "execution_count": null,
   "metadata": {
    "colab": {},
    "colab_type": "code",
    "id": "5wB7hW0EOdnj"
   },
   "outputs": [],
   "source": [
    "import urllib.request\n",
    "\n",
    "training = (\n",
    "    \"http://yann.lecun.com/exdb/mnist/train-images-idx3-ubyte.gz\",\n",
    "    \"http://yann.lecun.com/exdb/mnist/train-labels-idx1-ubyte.gz\"\n",
    ")\n",
    "\n",
    "testing = (\n",
    "    \"http://yann.lecun.com/exdb/mnist/t10k-images-idx3-ubyte.gz\",\n",
    "    \"http://yann.lecun.com/exdb/mnist/t10k-labels-idx1-ubyte.gz\"\n",
    ")\n",
    "\n",
    "def dl_mnist(ds, prefix):\n",
    "    img_url, lab_url = ds\n",
    "    print(f\"Downloading {prefix}\")\n",
    "    urllib.request.urlretrieve(img_url, f'./{prefix}-img')\n",
    "    urllib.request.urlretrieve(lab_url, f'./{prefix}-lab')\n",
    "    print(\"Done\")"
   ]
  },
  {
   "cell_type": "code",
   "execution_count": null,
   "metadata": {
    "colab": {
     "base_uri": "https://localhost:8080/",
     "height": 53
    },
    "colab_type": "code",
    "id": "P36TzM8bOdnu",
    "outputId": "1ee8ab1a-0f37-4b7a-d181-688e8db30126"
   },
   "outputs": [],
   "source": [
    "dl_mnist(training, \"train\")"
   ]
  },
  {
   "cell_type": "code",
   "execution_count": null,
   "metadata": {
    "colab": {},
    "colab_type": "code",
    "id": "YP4HR_TqOdn1"
   },
   "outputs": [],
   "source": [
    "import struct\n",
    "import gzip\n",
    "\n",
    "def print_data(x):\n",
    "    plt.imshow(x.reshape(28, 28), cmap='Greys')\n",
    "    plt.axis('off')\n",
    "    \n",
    "def read_dataset(imgname, labname):\n",
    "    X = []\n",
    "    y = []\n",
    "    with gzip.open(imgname, \"rb\") as img, gzip.open(labname, \"rb\") as labs:\n",
    "        img_header = struct.unpack(\">4i\", img.read(16))\n",
    "        lab_header = struct.unpack(\">2i\", labs.read(8))\n",
    "        \n",
    "        img_size = img_header[2] * img_header[3]\n",
    "        \n",
    "        for i in range(img_header[1]):\n",
    "            image = struct.unpack(f\"{img_size}B\", img.read(img_size))\n",
    "            label = struct.unpack(\"B\", labs.read(1))\n",
    "            X.append(image)\n",
    "            y.append(label[0])\n",
    "        X = np.array(X) / 255\n",
    "    return X, np.array(y)"
   ]
  },
  {
   "cell_type": "code",
   "execution_count": null,
   "metadata": {
    "colab": {},
    "colab_type": "code",
    "id": "sNwZ2Z-YOdn7"
   },
   "outputs": [],
   "source": [
    "X, y = read_dataset(\"train-img\", \"train-lab\")\n",
    "yt = np.array([[1 if i == x else 0 for i in range(10)] for x in y])"
   ]
  },
  {
   "cell_type": "code",
   "execution_count": null,
   "metadata": {
    "colab": {
     "base_uri": "https://localhost:8080/",
     "height": 53
    },
    "colab_type": "code",
    "id": "ESUa6r9gOdoX",
    "outputId": "3397e283-e516-4a85-9bff-62f882fcd48b"
   },
   "outputs": [],
   "source": [
    "dl_mnist(testing, \"test\")"
   ]
  },
  {
   "cell_type": "code",
   "execution_count": null,
   "metadata": {
    "colab": {},
    "colab_type": "code",
    "id": "f_gD_kB8Odog"
   },
   "outputs": [],
   "source": [
    "X_test, y_test = read_dataset(\"test-img\", \"test-lab\")\n",
    "yt_test = np.array([[1 if i == x else 0 for i in range(10)] for x in y_test])"
   ]
  },
  {
   "cell_type": "code",
   "execution_count": null,
   "metadata": {
    "colab": {},
    "colab_type": "code",
    "id": "CuHeokdLOdoI"
   },
   "outputs": [],
   "source": [
    "NN = NeuralNet()"
   ]
  },
  {
   "cell_type": "code",
   "execution_count": null,
   "metadata": {},
   "outputs": [],
   "source": [
    "NN.append(Dense(10, 784, learning_rate=0.1))\n",
    "#NN.append(Dense(10, 10, learning_rate=0.1))\n",
    "NN.append(Dense(10, 10, activation=softmax, learning_rate=0.1))"
   ]
  },
  {
   "cell_type": "code",
   "execution_count": null,
   "metadata": {
    "colab": {
     "base_uri": "https://localhost:8080/",
     "height": 373
    },
    "colab_type": "code",
    "id": "5aIIzPqJOdoN",
    "outputId": "a8488d60-4f72-4859-858b-92175b8fc6f3",
    "scrolled": true
   },
   "outputs": [],
   "source": [
    "loss = NN.train(X, yt, epoch=200, batch=100, verbose=True)"
   ]
  },
  {
   "cell_type": "code",
   "execution_count": null,
   "metadata": {
    "colab": {
     "base_uri": "https://localhost:8080/",
     "height": 269
    },
    "colab_type": "code",
    "id": "Plak6mIAOdoS",
    "outputId": "2fd9bccd-a433-41d3-c26b-7ac166decbe3"
   },
   "outputs": [],
   "source": [
    "plt.plot(loss)\n",
    "plt.xlabel(\"Epoch\")\n",
    "plt.ylabel(\"Loss\")\n",
    "plt.show()"
   ]
  },
  {
   "cell_type": "code",
   "execution_count": null,
   "metadata": {
    "colab": {
     "base_uri": "https://localhost:8080/",
     "height": 269
    },
    "colab_type": "code",
    "id": "glVX17_hRx8a",
    "outputId": "961cb229-03f5-472a-db0e-7597d63769df"
   },
   "outputs": [],
   "source": [
    "example = 110\n",
    "print_data(X_test[example])\n",
    "NN.forward(X_test[example])"
   ]
  },
  {
   "cell_type": "code",
   "execution_count": null,
   "metadata": {
    "colab": {
     "base_uri": "https://localhost:8080/",
     "height": 35
    },
    "colab_type": "code",
    "id": "9NhmEPsDOdom",
    "outputId": "8848fb72-9d3c-4db3-e295-40aafa415c34"
   },
   "outputs": [],
   "source": [
    "accuracy_score(y_test, np.argmax(NN.forward(X_test), axis=1))"
   ]
  }
 ],
 "metadata": {
  "colab": {
   "collapsed_sections": [],
   "name": "mdrlolcamarche.ipynb",
   "provenance": []
  },
  "kernelspec": {
   "display_name": "Python 3",
   "language": "python",
   "name": "python3"
  },
  "language_info": {
   "codemirror_mode": {
    "name": "ipython",
    "version": 3
   },
   "file_extension": ".py",
   "mimetype": "text/x-python",
   "name": "python",
   "nbconvert_exporter": "python",
   "pygments_lexer": "ipython3",
   "version": "3.7.4"
  }
 },
 "nbformat": 4,
 "nbformat_minor": 4
}
