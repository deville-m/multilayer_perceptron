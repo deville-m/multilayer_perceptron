{
 "cells": [
  {
   "cell_type": "code",
   "execution_count": 1,
   "metadata": {
    "colab": {},
    "colab_type": "code",
    "id": "V00oKy48OdnX"
   },
   "outputs": [],
   "source": [
    "import numpy as np\n",
    "import pandas as pd\n",
    "import matplotlib.pyplot as plt\n",
    "from scipy.special import expit\n",
    "from sklearn.metrics import accuracy_score\n",
    "\n",
    "from NeuralNet import NeuralNet, Dense, softmax\n",
    "\n",
    "np.set_printoptions(suppress=True, precision=2)"
   ]
  },
  {
   "cell_type": "code",
   "execution_count": 2,
   "metadata": {
    "colab": {},
    "colab_type": "code",
    "id": "5wB7hW0EOdnj"
   },
   "outputs": [],
   "source": [
    "import urllib.request\n",
    "\n",
    "training = (\n",
    "    \"http://yann.lecun.com/exdb/mnist/train-images-idx3-ubyte.gz\",\n",
    "    \"http://yann.lecun.com/exdb/mnist/train-labels-idx1-ubyte.gz\"\n",
    ")\n",
    "\n",
    "testing = (\n",
    "    \"http://yann.lecun.com/exdb/mnist/t10k-images-idx3-ubyte.gz\",\n",
    "    \"http://yann.lecun.com/exdb/mnist/t10k-labels-idx1-ubyte.gz\"\n",
    ")\n",
    "\n",
    "def dl_mnist(ds, prefix):\n",
    "    img_url, lab_url = ds\n",
    "    print(f\"Downloading {prefix}\")\n",
    "    urllib.request.urlretrieve(img_url, f'./{prefix}-img')\n",
    "    urllib.request.urlretrieve(lab_url, f'./{prefix}-lab')\n",
    "    print(\"Done\")"
   ]
  },
  {
   "cell_type": "code",
   "execution_count": 3,
   "metadata": {
    "colab": {
     "base_uri": "https://localhost:8080/",
     "height": 53
    },
    "colab_type": "code",
    "id": "P36TzM8bOdnu",
    "outputId": "1ee8ab1a-0f37-4b7a-d181-688e8db30126"
   },
   "outputs": [
    {
     "name": "stdout",
     "output_type": "stream",
     "text": [
      "Downloading train\n",
      "Done\n"
     ]
    }
   ],
   "source": [
    "dl_mnist(training, \"train\")"
   ]
  },
  {
   "cell_type": "code",
   "execution_count": 4,
   "metadata": {
    "colab": {},
    "colab_type": "code",
    "id": "YP4HR_TqOdn1"
   },
   "outputs": [],
   "source": [
    "import struct\n",
    "import gzip\n",
    "\n",
    "def print_data(x):\n",
    "    plt.imshow(x.reshape(28, 28), cmap='Greys')\n",
    "    plt.axis('off')\n",
    "    \n",
    "def read_dataset(imgname, labname):\n",
    "    X = []\n",
    "    y = []\n",
    "    with gzip.open(imgname, \"rb\") as img, gzip.open(labname, \"rb\") as labs:\n",
    "        img_header = struct.unpack(\">4i\", img.read(16))\n",
    "        lab_header = struct.unpack(\">2i\", labs.read(8))\n",
    "        \n",
    "        img_size = img_header[2] * img_header[3]\n",
    "        \n",
    "        for i in range(img_header[1]):\n",
    "            image = struct.unpack(f\"{img_size}B\", img.read(img_size))\n",
    "            label = struct.unpack(\"B\", labs.read(1))\n",
    "            X.append(image)\n",
    "            y.append(label[0])\n",
    "        X = np.array(X) / 255\n",
    "    return X, np.array(y)"
   ]
  },
  {
   "cell_type": "code",
   "execution_count": 5,
   "metadata": {
    "colab": {},
    "colab_type": "code",
    "id": "sNwZ2Z-YOdn7"
   },
   "outputs": [],
   "source": [
    "X, y = read_dataset(\"train-img\", \"train-lab\")\n",
    "yt = np.array([[1 if i == x else 0 for i in range(10)] for x in y])"
   ]
  },
  {
   "cell_type": "code",
   "execution_count": 6,
   "metadata": {
    "colab": {},
    "colab_type": "code",
    "id": "CuHeokdLOdoI"
   },
   "outputs": [],
   "source": [
    "NN = NeuralNet()"
   ]
  },
  {
   "cell_type": "code",
   "execution_count": 7,
   "metadata": {},
   "outputs": [],
   "source": [
    "NN.append(Dense(10, 784, learning_rate=0.1))\n",
    "#NN.append(Dense(10, 10, learning_rate=0.1))\n",
    "NN.append(Dense(10, 10, activation=softmax, learning_rate=0.1))"
   ]
  },
  {
   "cell_type": "code",
   "execution_count": 8,
   "metadata": {
    "colab": {
     "base_uri": "https://localhost:8080/",
     "height": 373
    },
    "colab_type": "code",
    "id": "5aIIzPqJOdoN",
    "outputId": "a8488d60-4f72-4859-858b-92175b8fc6f3",
    "scrolled": true
   },
   "outputs": [
    {
     "name": "stdout",
     "output_type": "stream",
     "text": [
      "Epoch: 1 / 200 -- learning_rate: 0.1 -- loss: 2.2362686900915643\n",
      "Epoch: 2 / 200 -- learning_rate: 0.1 -- loss: 1.730678854629757\n",
      "Epoch: 3 / 200 -- learning_rate: 0.1 -- loss: 1.4886077028724451\n",
      "Epoch: 4 / 200 -- learning_rate: 0.1 -- loss: 1.3416295487411485\n",
      "Epoch: 5 / 200 -- learning_rate: 0.1 -- loss: 1.239187152442944\n",
      "Epoch: 6 / 200 -- learning_rate: 0.1 -- loss: 1.1604671237091468\n",
      "Epoch: 7 / 200 -- learning_rate: 0.1 -- loss: 1.0994144942878994\n",
      "Epoch: 8 / 200 -- learning_rate: 0.1 -- loss: 1.04896871793465\n",
      "Epoch: 9 / 200 -- learning_rate: 0.1 -- loss: 1.0068969984058371\n",
      "Epoch: 10 / 200 -- learning_rate: 0.1 -- loss: 0.9707599770258419\n",
      "Epoch: 11 / 200 -- learning_rate: 0.1 -- loss: 0.9391772640162749\n",
      "Epoch: 12 / 200 -- learning_rate: 0.1 -- loss: 0.9102612639788148\n",
      "Epoch: 13 / 200 -- learning_rate: 0.1 -- loss: 0.8853135969826683\n",
      "Epoch: 14 / 200 -- learning_rate: 0.1 -- loss: 0.8631065446231783\n",
      "Epoch: 15 / 200 -- learning_rate: 0.1 -- loss: 0.8432706007622766\n",
      "Epoch: 16 / 200 -- learning_rate: 0.1 -- loss: 0.8245294680343077\n",
      "Epoch: 17 / 200 -- learning_rate: 0.1 -- loss: 0.8076219511693198\n",
      "Epoch: 18 / 200 -- learning_rate: 0.1 -- loss: 0.7918749809079382\n",
      "Epoch: 19 / 200 -- learning_rate: 0.1 -- loss: 0.7770767650242457\n",
      "Epoch: 20 / 200 -- learning_rate: 0.1 -- loss: 0.7637091036917258\n",
      "Epoch: 21 / 200 -- learning_rate: 0.1 -- loss: 0.7513369448923998\n",
      "Epoch: 22 / 200 -- learning_rate: 0.1 -- loss: 0.7392284785783457\n",
      "Epoch: 23 / 200 -- learning_rate: 0.1 -- loss: 0.728139368373512\n",
      "Epoch: 24 / 200 -- learning_rate: 0.1 -- loss: 0.7178016576326961\n",
      "Epoch: 25 / 200 -- learning_rate: 0.1 -- loss: 0.7081388068460901\n",
      "Epoch: 26 / 200 -- learning_rate: 0.1 -- loss: 0.6990155156705244\n",
      "Epoch: 27 / 200 -- learning_rate: 0.1 -- loss: 0.6906209656752164\n",
      "Epoch: 28 / 200 -- learning_rate: 0.1 -- loss: 0.6835326173581627\n",
      "Epoch: 29 / 200 -- learning_rate: 0.1 -- loss: 0.675429362660404\n",
      "Epoch: 30 / 200 -- learning_rate: 0.1 -- loss: 0.6680632713668478\n",
      "Epoch: 31 / 200 -- learning_rate: 0.1 -- loss: 0.6611606173356326\n",
      "Epoch: 32 / 200 -- learning_rate: 0.1 -- loss: 0.6550188586936087\n",
      "Epoch: 33 / 200 -- learning_rate: 0.1 -- loss: 0.6493261065596848\n",
      "Epoch: 34 / 200 -- learning_rate: 0.1 -- loss: 0.6433290315192743\n",
      "Epoch: 35 / 200 -- learning_rate: 0.1 -- loss: 0.6377770118727553\n",
      "Epoch: 36 / 200 -- learning_rate: 0.1 -- loss: 0.6332644252140792\n",
      "Epoch: 37 / 200 -- learning_rate: 0.1 -- loss: 0.6279304744487026\n",
      "Epoch: 38 / 200 -- learning_rate: 0.1 -- loss: 0.6231215481357092\n",
      "Epoch: 39 / 200 -- learning_rate: 0.1 -- loss: 0.6193661429318101\n",
      "Epoch: 40 / 200 -- learning_rate: 0.1 -- loss: 0.6146189060235583\n",
      "Epoch: 41 / 200 -- learning_rate: 0.1 -- loss: 0.6107949124111238\n",
      "Epoch: 42 / 200 -- learning_rate: 0.1 -- loss: 0.607406257082888\n",
      "Epoch: 43 / 200 -- learning_rate: 0.1 -- loss: 0.6037892120401034\n",
      "Epoch: 44 / 200 -- learning_rate: 0.1 -- loss: 0.6001301530838259\n",
      "Epoch: 45 / 200 -- learning_rate: 0.1 -- loss: 0.5968367584616391\n",
      "Epoch: 46 / 200 -- learning_rate: 0.1 -- loss: 0.5943183640503024\n",
      "Epoch: 47 / 200 -- learning_rate: 0.1 -- loss: 0.5906365660704288\n",
      "Epoch: 48 / 200 -- learning_rate: 0.1 -- loss: 0.5877716884137865\n",
      "Epoch: 49 / 200 -- learning_rate: 0.1 -- loss: 0.584542907663693\n",
      "Epoch: 50 / 200 -- learning_rate: 0.1 -- loss: 0.5820968462553787\n",
      "Epoch: 51 / 200 -- learning_rate: 0.1 -- loss: 0.5788255354669626\n",
      "Epoch: 52 / 200 -- learning_rate: 0.1 -- loss: 0.5760078361170872\n",
      "Epoch: 53 / 200 -- learning_rate: 0.1 -- loss: 0.5736852357417224\n",
      "Epoch: 54 / 200 -- learning_rate: 0.1 -- loss: 0.5714730662982489\n",
      "Epoch: 55 / 200 -- learning_rate: 0.1 -- loss: 0.5691429995365092\n",
      "Epoch: 56 / 200 -- learning_rate: 0.1 -- loss: 0.5667412934780297\n",
      "Epoch: 57 / 200 -- learning_rate: 0.1 -- loss: 0.5638621300372871\n",
      "Epoch: 58 / 200 -- learning_rate: 0.1 -- loss: 0.5621976009286337\n",
      "Epoch: 59 / 200 -- learning_rate: 0.1 -- loss: 0.5597039489906166\n",
      "Epoch: 60 / 200 -- learning_rate: 0.1 -- loss: 0.5579519356425828\n",
      "Epoch: 61 / 200 -- learning_rate: 0.1 -- loss: 0.5557178396211634\n",
      "Epoch: 62 / 200 -- learning_rate: 0.1 -- loss: 0.5529974501081332\n",
      "Epoch: 63 / 200 -- learning_rate: 0.1 -- loss: 0.5510556032304526\n",
      "Epoch: 64 / 200 -- learning_rate: 0.1 -- loss: 0.5490484409808192\n",
      "Epoch: 65 / 200 -- learning_rate: 0.1 -- loss: 0.5480547396419786\n",
      "Epoch: 66 / 200 -- learning_rate: 0.1 -- loss: 0.5450889123616047\n",
      "Epoch: 67 / 200 -- learning_rate: 0.1 -- loss: 0.5431050337723283\n",
      "Epoch: 68 / 200 -- learning_rate: 0.1 -- loss: 0.54123508401826\n",
      "Epoch: 69 / 200 -- learning_rate: 0.1 -- loss: 0.5394658300424666\n",
      "Epoch: 70 / 200 -- learning_rate: 0.1 -- loss: 0.5377541399176575\n",
      "Epoch: 71 / 200 -- learning_rate: 0.1 -- loss: 0.5355854592678196\n",
      "Epoch: 72 / 200 -- learning_rate: 0.1 -- loss: 0.5339045830102638\n",
      "Epoch: 73 / 200 -- learning_rate: 0.1 -- loss: 0.5318231418802922\n",
      "Epoch: 74 / 200 -- learning_rate: 0.1 -- loss: 0.530632556518727\n",
      "Epoch: 75 / 200 -- learning_rate: 0.1 -- loss: 0.5288718882857016\n",
      "Epoch: 76 / 200 -- learning_rate: 0.1 -- loss: 0.5270981581201793\n",
      "Epoch: 77 / 200 -- learning_rate: 0.1 -- loss: 0.5250267630333536\n",
      "Epoch: 78 / 200 -- learning_rate: 0.1 -- loss: 0.5236299716190146\n",
      "Epoch: 79 / 200 -- learning_rate: 0.1 -- loss: 0.5214567269792239\n",
      "Epoch: 80 / 200 -- learning_rate: 0.1 -- loss: 0.5203266291796381\n",
      "Epoch: 81 / 200 -- learning_rate: 0.1 -- loss: 0.5192310346404136\n",
      "Epoch: 82 / 200 -- learning_rate: 0.1 -- loss: 0.5180802845608723\n",
      "Epoch: 83 / 200 -- learning_rate: 0.1 -- loss: 0.5155286498697695\n",
      "Epoch: 84 / 200 -- learning_rate: 0.1 -- loss: 0.5143817653686786\n",
      "Epoch: 85 / 200 -- learning_rate: 0.1 -- loss: 0.5126356050933201\n",
      "Epoch: 86 / 200 -- learning_rate: 0.1 -- loss: 0.5118176486399122\n",
      "Epoch: 87 / 200 -- learning_rate: 0.1 -- loss: 0.5093175252151946\n",
      "Epoch: 88 / 200 -- learning_rate: 0.1 -- loss: 0.5084635021389745\n",
      "Epoch: 89 / 200 -- learning_rate: 0.1 -- loss: 0.5067127468370387\n",
      "Epoch: 90 / 200 -- learning_rate: 0.1 -- loss: 0.5052617166503371\n",
      "Epoch: 91 / 200 -- learning_rate: 0.1 -- loss: 0.503991706967733\n",
      "Epoch: 92 / 200 -- learning_rate: 0.1 -- loss: 0.5035568438019874\n",
      "Epoch: 93 / 200 -- learning_rate: 0.1 -- loss: 0.5010637377107828\n",
      "Epoch: 94 / 200 -- learning_rate: 0.1 -- loss: 0.4998488172392193\n",
      "Epoch: 95 / 200 -- learning_rate: 0.1 -- loss: 0.498625041256541\n",
      "Epoch: 96 / 200 -- learning_rate: 0.1 -- loss: 0.49771605486378395\n",
      "Epoch: 97 / 200 -- learning_rate: 0.1 -- loss: 0.49628482829434595\n",
      "Epoch: 98 / 200 -- learning_rate: 0.1 -- loss: 0.4962711531392084\n",
      "Epoch: 99 / 200 -- learning_rate: 0.1 -- loss: 0.4931719767675438\n",
      "Epoch: 100 / 200 -- learning_rate: 0.1 -- loss: 0.49196141378555414\n",
      "Epoch: 101 / 200 -- learning_rate: 0.1 -- loss: 0.49047434159561676\n",
      "Epoch: 102 / 200 -- learning_rate: 0.1 -- loss: 0.49063785807511806\n",
      "Epoch: 103 / 200 -- learning_rate: 0.1 -- loss: 0.4886182549881537\n",
      "Epoch: 104 / 200 -- learning_rate: 0.1 -- loss: 0.4872350644200575\n",
      "Epoch: 105 / 200 -- learning_rate: 0.1 -- loss: 0.48591197821594945\n",
      "Epoch: 106 / 200 -- learning_rate: 0.1 -- loss: 0.4844786670406023\n",
      "Epoch: 107 / 200 -- learning_rate: 0.1 -- loss: 0.484083016713801\n",
      "Epoch: 108 / 200 -- learning_rate: 0.1 -- loss: 0.4828914601604334\n",
      "Epoch: 109 / 200 -- learning_rate: 0.1 -- loss: 0.4811746906933532\n",
      "Epoch: 110 / 200 -- learning_rate: 0.1 -- loss: 0.4798348876557403\n",
      "Epoch: 111 / 200 -- learning_rate: 0.1 -- loss: 0.4787485141561317\n",
      "Epoch: 112 / 200 -- learning_rate: 0.1 -- loss: 0.478435404817505\n",
      "Epoch: 113 / 200 -- learning_rate: 0.1 -- loss: 0.47662134357886715\n",
      "Epoch: 114 / 200 -- learning_rate: 0.1 -- loss: 0.4756601749568658\n",
      "Epoch: 115 / 200 -- learning_rate: 0.1 -- loss: 0.475310342731726\n",
      "Epoch: 116 / 200 -- learning_rate: 0.1 -- loss: 0.47349730349537383\n",
      "Epoch: 117 / 200 -- learning_rate: 0.1 -- loss: 0.4727777662002329\n",
      "Epoch: 118 / 200 -- learning_rate: 0.1 -- loss: 0.4719743587353011\n",
      "Epoch: 119 / 200 -- learning_rate: 0.1 -- loss: 0.47042736814482494\n",
      "Epoch: 120 / 200 -- learning_rate: 0.1 -- loss: 0.4696164980993825\n",
      "Epoch: 121 / 200 -- learning_rate: 0.1 -- loss: 0.4688751841588261\n",
      "Epoch: 122 / 200 -- learning_rate: 0.1 -- loss: 0.4679159902677953\n",
      "Epoch: 123 / 200 -- learning_rate: 0.1 -- loss: 0.4665471631533362\n",
      "Epoch: 124 / 200 -- learning_rate: 0.1 -- loss: 0.4665642283647782\n"
     ]
    },
    {
     "name": "stdout",
     "output_type": "stream",
     "text": [
      "Epoch: 125 / 200 -- learning_rate: 0.1 -- loss: 0.4651662112146958\n",
      "Epoch: 126 / 200 -- learning_rate: 0.1 -- loss: 0.4645331818938842\n",
      "Epoch: 127 / 200 -- learning_rate: 0.1 -- loss: 0.4634066302724898\n",
      "Epoch: 128 / 200 -- learning_rate: 0.1 -- loss: 0.4630339324840366\n",
      "Epoch: 129 / 200 -- learning_rate: 0.1 -- loss: 0.46166435850577614\n",
      "Epoch: 130 / 200 -- learning_rate: 0.1 -- loss: 0.4602226668692742\n",
      "Epoch: 131 / 200 -- learning_rate: 0.1 -- loss: 0.45991043349624955\n",
      "Epoch: 132 / 200 -- learning_rate: 0.1 -- loss: 0.458864300820445\n",
      "Epoch: 133 / 200 -- learning_rate: 0.1 -- loss: 0.4583420113706009\n",
      "Epoch: 134 / 200 -- learning_rate: 0.1 -- loss: 0.4575577707433379\n",
      "Epoch: 135 / 200 -- learning_rate: 0.1 -- loss: 0.45626386269423796\n",
      "Epoch: 136 / 200 -- learning_rate: 0.1 -- loss: 0.45511715965955873\n",
      "Epoch: 137 / 200 -- learning_rate: 0.1 -- loss: 0.45477173130571863\n",
      "Epoch: 138 / 200 -- learning_rate: 0.1 -- loss: 0.4537298957492626\n",
      "Epoch: 139 / 200 -- learning_rate: 0.1 -- loss: 0.4527044364595407\n",
      "Epoch: 140 / 200 -- learning_rate: 0.1 -- loss: 0.45213430055013015\n",
      "Epoch: 141 / 200 -- learning_rate: 0.1 -- loss: 0.4517502924885348\n",
      "Epoch: 142 / 200 -- learning_rate: 0.1 -- loss: 0.45092400187418774\n",
      "Epoch: 143 / 200 -- learning_rate: 0.1 -- loss: 0.4499716870779024\n",
      "Epoch: 144 / 200 -- learning_rate: 0.1 -- loss: 0.4492292435763514\n",
      "Epoch: 145 / 200 -- learning_rate: 0.1 -- loss: 0.44853842771631625\n",
      "Epoch: 146 / 200 -- learning_rate: 0.1 -- loss: 0.4476334465871564\n",
      "Epoch: 147 / 200 -- learning_rate: 0.1 -- loss: 0.4474871028463911\n",
      "Epoch: 148 / 200 -- learning_rate: 0.1 -- loss: 0.44706264072499763\n",
      "Epoch: 149 / 200 -- learning_rate: 0.1 -- loss: 0.44608477515066636\n",
      "Epoch: 150 / 200 -- learning_rate: 0.1 -- loss: 0.4449822246929132\n",
      "Epoch: 151 / 200 -- learning_rate: 0.1 -- loss: 0.4450102303841148\n",
      "Epoch: 152 / 200 -- learning_rate: 0.1 -- loss: 0.4435715162080852\n",
      "Epoch: 153 / 200 -- learning_rate: 0.1 -- loss: 0.44305419013245584\n",
      "Epoch: 154 / 200 -- learning_rate: 0.1 -- loss: 0.4423381354649307\n",
      "Epoch: 155 / 200 -- learning_rate: 0.1 -- loss: 0.44142164391959127\n",
      "Epoch: 156 / 200 -- learning_rate: 0.1 -- loss: 0.44083539962234547\n",
      "Epoch: 157 / 200 -- learning_rate: 0.1 -- loss: 0.44085262358854854\n",
      "Epoch: 158 / 200 -- learning_rate: 0.1 -- loss: 0.4399666155444571\n",
      "Epoch: 159 / 200 -- learning_rate: 0.1 -- loss: 0.43883771285708395\n",
      "Epoch: 160 / 200 -- learning_rate: 0.1 -- loss: 0.4382313511404559\n",
      "Epoch: 161 / 200 -- learning_rate: 0.1 -- loss: 0.43755540156840933\n",
      "Epoch: 162 / 200 -- learning_rate: 0.1 -- loss: 0.43709889378255723\n",
      "Epoch: 163 / 200 -- learning_rate: 0.1 -- loss: 0.43651729696518504\n",
      "Epoch: 164 / 200 -- learning_rate: 0.1 -- loss: 0.4356143872867927\n",
      "Epoch: 165 / 200 -- learning_rate: 0.1 -- loss: 0.43493720329640556\n",
      "Epoch: 166 / 200 -- learning_rate: 0.1 -- loss: 0.4341775810125039\n",
      "Epoch: 167 / 200 -- learning_rate: 0.1 -- loss: 0.43388825323219576\n",
      "Epoch: 168 / 200 -- learning_rate: 0.1 -- loss: 0.43289330703791123\n",
      "Epoch: 169 / 200 -- learning_rate: 0.1 -- loss: 0.4326437063430988\n",
      "Epoch: 170 / 200 -- learning_rate: 0.1 -- loss: 0.4318191681684975\n",
      "Epoch: 171 / 200 -- learning_rate: 0.1 -- loss: 0.43200143995791357\n",
      "Epoch: 172 / 200 -- learning_rate: 0.1 -- loss: 0.4312743113559971\n",
      "Epoch: 173 / 200 -- learning_rate: 0.1 -- loss: 0.4302005753398166\n",
      "Epoch: 174 / 200 -- learning_rate: 0.1 -- loss: 0.43033343220113707\n",
      "Epoch: 175 / 200 -- learning_rate: 0.1 -- loss: 0.429080347250169\n",
      "Epoch: 176 / 200 -- learning_rate: 0.1 -- loss: 0.42871693081168644\n",
      "Epoch: 177 / 200 -- learning_rate: 0.1 -- loss: 0.4275914783043358\n",
      "Epoch: 178 / 200 -- learning_rate: 0.1 -- loss: 0.42714317781173605\n",
      "Epoch: 179 / 200 -- learning_rate: 0.1 -- loss: 0.42697200011167297\n",
      "Epoch: 180 / 200 -- learning_rate: 0.1 -- loss: 0.42636246028160324\n",
      "Epoch: 181 / 200 -- learning_rate: 0.1 -- loss: 0.4256881865445321\n",
      "Epoch: 182 / 200 -- learning_rate: 0.1 -- loss: 0.42532324757775486\n",
      "Epoch: 183 / 200 -- learning_rate: 0.1 -- loss: 0.42435066765365076\n",
      "Epoch: 184 / 200 -- learning_rate: 0.1 -- loss: 0.42513847691079504\n",
      "Epoch: 185 / 200 -- learning_rate: 0.1 -- loss: 0.4244547247553405\n",
      "Epoch: 186 / 200 -- learning_rate: 0.1 -- loss: 0.42294312411595003\n",
      "Epoch: 187 / 200 -- learning_rate: 0.1 -- loss: 0.42273628074725594\n",
      "Epoch: 188 / 200 -- learning_rate: 0.1 -- loss: 0.42238188548326777\n",
      "Epoch: 189 / 200 -- learning_rate: 0.1 -- loss: 0.4217953312892524\n",
      "Epoch: 190 / 200 -- learning_rate: 0.1 -- loss: 0.42154262349345856\n",
      "Epoch: 191 / 200 -- learning_rate: 0.1 -- loss: 0.4205170768229574\n",
      "Epoch: 192 / 200 -- learning_rate: 0.1 -- loss: 0.4204386385018679\n",
      "Epoch: 193 / 200 -- learning_rate: 0.1 -- loss: 0.4192305098010447\n",
      "Epoch: 194 / 200 -- learning_rate: 0.1 -- loss: 0.41903084129611756\n",
      "Epoch: 195 / 200 -- learning_rate: 0.1 -- loss: 0.418497267016163\n",
      "Epoch: 196 / 200 -- learning_rate: 0.1 -- loss: 0.41851890847530354\n",
      "Epoch: 197 / 200 -- learning_rate: 0.1 -- loss: 0.4173264460926325\n",
      "Epoch: 198 / 200 -- learning_rate: 0.1 -- loss: 0.4173567533768369\n",
      "Epoch: 199 / 200 -- learning_rate: 0.1 -- loss: 0.4164015105516827\n",
      "Epoch: 200 / 200 -- learning_rate: 0.1 -- loss: 0.41550415744384983\n"
     ]
    }
   ],
   "source": [
    "loss = NN.train(X, yt, epoch=200, batch=100, verbose=True)"
   ]
  },
  {
   "cell_type": "code",
   "execution_count": 9,
   "metadata": {
    "colab": {
     "base_uri": "https://localhost:8080/",
     "height": 269
    },
    "colab_type": "code",
    "id": "Plak6mIAOdoS",
    "outputId": "2fd9bccd-a433-41d3-c26b-7ac166decbe3"
   },
   "outputs": [
    {
     "data": {
      "image/png": "[encoded data removed]",
      "text/plain": [
       "<Figure size 432x288 with 1 Axes>"
      ]
     },
     "metadata": {
      "needs_background": "light"
     },
     "output_type": "display_data"
    }
   ],
   "source": [
    "plt.plot(loss)\n",
    "plt.xlabel(\"Epoch\")\n",
    "plt.ylabel(\"Loss\")\n",
    "plt.show()"
   ]
  },
  {
   "cell_type": "code",
   "execution_count": 10,
   "metadata": {
    "colab": {
     "base_uri": "https://localhost:8080/",
     "height": 53
    },
    "colab_type": "code",
    "id": "ESUa6r9gOdoX",
    "outputId": "3397e283-e516-4a85-9bff-62f882fcd48b"
   },
   "outputs": [
    {
     "name": "stdout",
     "output_type": "stream",
     "text": [
      "Downloading test\n",
      "Done\n"
     ]
    }
   ],
   "source": [
    "dl_mnist(testing, \"test\")"
   ]
  },
  {
   "cell_type": "code",
   "execution_count": 11,
   "metadata": {
    "colab": {},
    "colab_type": "code",
    "id": "f_gD_kB8Odog"
   },
   "outputs": [],
   "source": [
    "X_test, y_test = read_dataset(\"test-img\", \"test-lab\")\n",
    "yt_test = np.array([[1 if i == x else 0 for i in range(10)] for x in y_test])"
   ]
  },
  {
   "cell_type": "code",
   "execution_count": 12,
   "metadata": {
    "colab": {
     "base_uri": "https://localhost:8080/",
     "height": 35
    },
    "colab_type": "code",
    "id": "9NhmEPsDOdom",
    "outputId": "8848fb72-9d3c-4db3-e295-40aafa415c34"
   },
   "outputs": [
    {
     "data": {
      "text/plain": [
       "0.9203"
      ]
     },
     "execution_count": 12,
     "metadata": {},
     "output_type": "execute_result"
    }
   ],
   "source": [
    "accuracy_score(y_test, np.argmax(NN.forward(X_test), axis=1))"
   ]
  },
  {
   "cell_type": "code",
   "execution_count": 14,
   "metadata": {
    "colab": {
     "base_uri": "https://localhost:8080/",
     "height": 269
    },
    "colab_type": "code",
    "id": "glVX17_hRx8a",
    "outputId": "961cb229-03f5-472a-db0e-7597d63769df"
   },
   "outputs": [
    {
     "data": {
      "text/plain": [
       "array([[0.  , 0.  , 0.  , 0.  , 0.01, 0.  , 0.  , 0.  , 0.  , 0.99]])"
      ]
     },
     "execution_count": 14,
     "metadata": {},
     "output_type": "execute_result"
    },
    {
     "data": {
      "image/png": "[encoded data removed]",
      "text/plain": [
       "<Figure size 432x288 with 1 Axes>"
      ]
     },
     "metadata": {
      "needs_background": "light"
     },
     "output_type": "display_data"
    }
   ],
   "source": [
    "example = 108\n",
    "print_data(X_test[example])\n",
    "NN.forward(X_test[example])"
   ]
  },
  {
   "cell_type": "code",
   "execution_count": null,
   "metadata": {},
   "outputs": [],
   "source": []
  }
 ],
 "metadata": {
  "colab": {
   "collapsed_sections": [],
   "name": "mdrlolcamarche.ipynb",
   "provenance": []
  },
  "kernelspec": {
   "display_name": "Python 3",
   "language": "python",
   "name": "python3"
  },
  "language_info": {
   "codemirror_mode": {
    "name": "ipython",
    "version": 3
   },
   "file_extension": ".py",
   "mimetype": "text/x-python",
   "name": "python",
   "nbconvert_exporter": "python",
   "pygments_lexer": "ipython3",
   "version": "3.7.4"
  }
 },
 "nbformat": 4,
 "nbformat_minor": 1
}
