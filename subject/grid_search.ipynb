{
 "cells": [
  {
   "cell_type": "code",
   "execution_count": 1,
   "metadata": {},
   "outputs": [],
   "source": [
    "from training import fetch\n",
    "from NeuralNet import NeuralNet, Dense, PCA, softmax\n",
    "import numpy as np"
   ]
  },
  {
   "cell_type": "code",
   "execution_count": 2,
   "metadata": {},
   "outputs": [],
   "source": [
    "X, y = fetch(\"data_training.csv\")"
   ]
  },
  {
   "cell_type": "code",
   "execution_count": 3,
   "metadata": {},
   "outputs": [],
   "source": [
    "split = int(len(X) * 0.8)\n",
    "valid = (X[split:], y[split:])\n",
    "X, y = X[:split], y[:split]"
   ]
  },
  {
   "cell_type": "code",
   "execution_count": 4,
   "metadata": {},
   "outputs": [],
   "source": [
    "#initialize the network\n",
    "NN = NeuralNet()"
   ]
  },
  {
   "cell_type": "code",
   "execution_count": 5,
   "metadata": {},
   "outputs": [],
   "source": [
    "# add the layers\n",
    "NN.append(Dense(20, 30))\n",
    "NN.append(Dense(10, 20))\n",
    "NN.append(Dense(2, 10, activation=softmax))"
   ]
  },
  {
   "cell_type": "code",
   "execution_count": 6,
   "metadata": {},
   "outputs": [
    {
     "name": "stdout",
     "output_type": "stream",
     "text": [
      "e: 10, r: 0.1, b: 10, loss: 0.14454627553059457\n",
      "e: 10, r: 0.1, b: 100, loss: 0.3399372309827104\n",
      "e: 10, r: 0.1, b: None, loss: 0.618735057724961\n",
      "e: 10, r: 0.01, b: 10, loss: 0.36629821254003364\n",
      "e: 10, r: 0.01, b: 100, loss: 0.7829990888590761\n",
      "e: 10, r: 0.01, b: None, loss: 0.9582364896909749\n",
      "e: 10, r: 0.001, b: 10, loss: 0.8051076585482462\n",
      "e: 10, r: 0.001, b: 100, loss: 1.0132043811116274\n",
      "e: 10, r: 0.001, b: None, loss: 1.0440661823819781\n",
      "e: 100, r: 0.1, b: 10, loss: 0.2259858871943268\n",
      "e: 100, r: 0.1, b: 100, loss: 0.14606985867796862\n",
      "e: 100, r: 0.1, b: None, loss: 0.21551636782477973\n",
      "e: 100, r: 0.01, b: 10, loss: 0.14895911503934903\n",
      "e: 100, r: 0.01, b: 100, loss: 0.34097840060772966\n",
      "e: 100, r: 0.01, b: None, loss: 0.6233870906412022\n",
      "e: 100, r: 0.001, b: 10, loss: 0.3666443661722127\n",
      "e: 100, r: 0.001, b: 100, loss: 0.7837895890381777\n",
      "e: 100, r: 0.001, b: None, loss: 0.9587958336216506\n",
      "e: 1000, r: 0.1, b: 10, loss: 0.40261540585858263\n",
      "e: 1000, r: 0.1, b: 100, loss: 0.23410492508129985\n",
      "e: 1000, r: 0.1, b: None, loss: 0.14840802996061003\n",
      "e: 1000, r: 0.01, b: 10, loss: 0.22162723571111276\n",
      "e: 1000, r: 0.01, b: 100, loss: 0.14594176197869915\n",
      "e: 1000, r: 0.01, b: None, loss: 0.215836738048229\n",
      "e: 1000, r: 0.001, b: 10, loss: 0.14875704696541447\n",
      "e: 1000, r: 0.001, b: 100, loss: 0.3411096025313189\n",
      "e: 1000, r: 0.001, b: None, loss: 0.6238505491962404\n",
      "e: 10000, r: 0.1, b: 10, loss: 0.5132394941590733\n",
      "e: 10000, r: 0.1, b: 100, loss: 0.40890704532513733\n",
      "e: 10000, r: 0.1, b: None, loss: 0.31946268959029384\n",
      "e: 10000, r: 0.01, b: 10, loss: 0.40106911380780447\n",
      "e: 10000, r: 0.01, b: 100, loss: 0.23406970065672753\n",
      "e: 10000, r: 0.01, b: None, loss: 0.14840528347359377\n",
      "e: 10000, r: 0.001, b: 10, loss: 0.22161042177794837\n",
      "e: 10000, r: 0.001, b: 100, loss: 0.14596043183038132\n",
      "e: 10000, r: 0.001, b: None, loss: 0.21586932778014672\n"
     ]
    },
    {
     "data": {
      "text/plain": [
       "{'epoch': 10, 'rate': 0.1, 'batch': 10}"
      ]
     },
     "execution_count": 6,
     "metadata": {},
     "output_type": "execute_result"
    }
   ],
   "source": [
    "# set the different parameters\n",
    "epoch = np.array([10, 100, 1000, 10000])\n",
    "rate = np.array([0.1, 0.01, 0.001])\n",
    "batch = np.array([10, 100, None])\n",
    "# then look for the best combination, the function will return the best combo\n",
    "NN.grid_search(X, y, valid, epoch, rate, batch)"
   ]
  }
 ],
 "metadata": {
  "kernelspec": {
   "display_name": "Python 3 (ipykernel)",
   "language": "python",
   "name": "python3"
  },
  "language_info": {
   "codemirror_mode": {
    "name": "ipython",
    "version": 3
   },
   "file_extension": ".py",
   "mimetype": "text/x-python",
   "name": "python",
   "nbconvert_exporter": "python",
   "pygments_lexer": "ipython3",
   "version": "3.9.6"
  }
 },
 "nbformat": 4,
 "nbformat_minor": 4
}
