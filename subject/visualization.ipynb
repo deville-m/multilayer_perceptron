{
 "cells": [
  {
   "cell_type": "code",
   "execution_count": null,
   "metadata": {},
   "outputs": [],
   "source": [
    "import pandas as pd\n",
    "import numpy as np\n",
    "import seaborn as sns\n",
    "import matplotlib.pyplot as plt"
   ]
  },
  {
   "cell_type": "code",
   "execution_count": null,
   "metadata": {},
   "outputs": [],
   "source": [
    "df = pd.read_csv(\"train.csv\", header=None, index_col=0)"
   ]
  },
  {
   "cell_type": "code",
   "execution_count": null,
   "metadata": {},
   "outputs": [],
   "source": [
    "X, y = df.iloc[:, 1:].values, df.iloc[:, 0].values"
   ]
  },
  {
   "cell_type": "code",
   "execution_count": null,
   "metadata": {},
   "outputs": [],
   "source": [
    "M = X[y == 'M', :]\n",
    "B = X[y == 'B', :]\n",
    "plt.scatter(M[:, 2], M[:, 3])\n",
    "plt.scatter(B[:, 2], B[:, 3])\n",
    "plt.show()"
   ]
  },
  {
   "cell_type": "code",
   "execution_count": null,
   "metadata": {},
   "outputs": [],
   "source": [
    "### PCA ###\n",
    "M = X\n",
    "K = M.shape[0]\n",
    "M_c = M - M.mean(0)\n",
    "M_z = M_c / M.std(0)"
   ]
  },
  {
   "cell_type": "code",
   "execution_count": null,
   "metadata": {},
   "outputs": [],
   "source": [
    "cov = (M_c.T @ M_c) / K\n",
    "cor = (M_z.T @ M_z) / K\n",
    "nb_features = cor.shape[0]\n",
    "\n",
    "size = (15, 15)\n",
    "fig, ax = plt.subplots(figsize=size)\n",
    "\n",
    "ax.set_xticks(np.arange(nb_features))\n",
    "ax.set_yticks(np.arange(nb_features))\n",
    "heat = ax.imshow(cor, interpolation=None)\n",
    "for i in range(nb_features):\n",
    "    for j in range(nb_features):\n",
    "        text = ax.text(j, i, np.around(cor[i, j], 1),\n",
    "                       ha=\"center\", va=\"center\", color=\"w\")\n",
    "plt.show()"
   ]
  },
  {
   "cell_type": "code",
   "execution_count": null,
   "metadata": {},
   "outputs": [],
   "source": [
    "eigenval, eigenvec = np.linalg.eig(cor)"
   ]
  },
  {
   "cell_type": "code",
   "execution_count": null,
   "metadata": {},
   "outputs": [],
   "source": [
    "order = np.argsort(eigenval)[::-1]"
   ]
  },
  {
   "cell_type": "code",
   "execution_count": null,
   "metadata": {},
   "outputs": [],
   "source": [
    "P = eigenvec[:, order[:4]]\n",
    "eigval = eigenval[order[:4]]\n",
    "print([np.abs(x) / np.sum(eigenval) for x in eigval])"
   ]
  },
  {
   "cell_type": "code",
   "execution_count": null,
   "metadata": {},
   "outputs": [],
   "source": [
    "Z = M_z @ P"
   ]
  },
  {
   "cell_type": "code",
   "execution_count": null,
   "metadata": {},
   "outputs": [],
   "source": [
    "MZ = Z[y == 'M']\n",
    "BZ = Z[y == 'B']\n",
    "\n",
    "plt.scatter(MZ[:, 0], MZ[:, 1])\n",
    "plt.scatter(BZ[:, 0], BZ[:, 1])\n",
    "plt.show()"
   ]
  }
 ],
 "metadata": {
  "kernelspec": {
   "display_name": "Python 3",
   "language": "python",
   "name": "python3"
  },
  "language_info": {
   "codemirror_mode": {
    "name": "ipython",
    "version": 3
   },
   "file_extension": ".py",
   "mimetype": "text/x-python",
   "name": "python",
   "nbconvert_exporter": "python",
   "pygments_lexer": "ipython3",
   "version": "3.7.4"
  }
 },
 "nbformat": 4,
 "nbformat_minor": 4
}
